{
 "cells": [
  {
   "cell_type": "markdown",
   "id": "0423804f",
   "metadata": {},
   "source": [
    "Homework 1\n",
    "Due Feb 3rd at 11:59pm\n",
    "Method of turning in to be announed by Week 3\n",
    "\n",
    "The following functions are a warmup to make sure you are familiar with python! Simple examples/tests are included after each. You do not need to modify the tests."
   ]
  },
  {
   "cell_type": "code",
   "execution_count": 1,
   "id": "9b77df60",
   "metadata": {},
   "outputs": [
    {
     "ename": "ModuleNotFoundError",
     "evalue": "No module named 'numpy'",
     "output_type": "error",
     "traceback": [
      "\u001b[0;31m---------------------------------------------------------------------------\u001b[0m",
      "\u001b[0;31mModuleNotFoundError\u001b[0m                       Traceback (most recent call last)",
      "Input \u001b[0;32mIn [1]\u001b[0m, in \u001b[0;36m<module>\u001b[0;34m\u001b[0m\n\u001b[1;32m      1\u001b[0m \u001b[38;5;66;03m# Returns the sum of all the squares of all numbers less than x\u001b[39;00m\n\u001b[0;32m----> 2\u001b[0m \u001b[38;5;28;01mimport\u001b[39;00m \u001b[38;5;21;01mnumpy\u001b[39;00m \u001b[38;5;28;01mas\u001b[39;00m \u001b[38;5;21;01mnp\u001b[39;00m\n\u001b[1;32m      4\u001b[0m \u001b[38;5;28;01mdef\u001b[39;00m \u001b[38;5;21msum_of_squares\u001b[39m(x):\n\u001b[1;32m      5\u001b[0m     \u001b[38;5;28;01mreturn\u001b[39;00m \u001b[38;5;28msum\u001b[39m( (np\u001b[38;5;241m.\u001b[39marray(\u001b[38;5;28mrange\u001b[39m(\u001b[38;5;241m0\u001b[39m, x \u001b[38;5;241m+\u001b[39m \u001b[38;5;241m1\u001b[39m )))\u001b[38;5;241m*\u001b[39m\u001b[38;5;241m*\u001b[39m\u001b[38;5;241m2\u001b[39m )\n",
      "\u001b[0;31mModuleNotFoundError\u001b[0m: No module named 'numpy'"
     ]
    }
   ],
   "source": [
    "# Returns the sum of all the squares of all numbers less than x\n",
    "import numpy as np\n",
    "\n",
    "def sum_of_squares(x):\n",
    "    return sum( (np.array(range(0, x + 1 )))**2 )"
   ]
  },
  {
   "cell_type": "code",
   "execution_count": 2,
   "id": "76473afa",
   "metadata": {},
   "outputs": [
    {
     "name": "stdout",
     "output_type": "stream",
     "text": [
      "True\n",
      "True\n",
      "True\n",
      "True\n"
     ]
    }
   ],
   "source": [
    "print(sum_of_squares(1) == 1)\n",
    "print(sum_of_squares(2) == 5)\n",
    "print(sum_of_squares(3) == 14)\n",
    "print(sum_of_squares(7) == 140)"
   ]
  },
  {
   "cell_type": "code",
   "execution_count": 3,
   "id": "6d5e327e",
   "metadata": {},
   "outputs": [],
   "source": [
    "# Takes a string and reverses it\n",
    "def reverse(string):\n",
    "    return string[::-1]"
   ]
  },
  {
   "cell_type": "code",
   "execution_count": 4,
   "id": "1f1be3a5",
   "metadata": {},
   "outputs": [
    {
     "name": "stdout",
     "output_type": "stream",
     "text": [
      "True\n",
      "True\n"
     ]
    }
   ],
   "source": [
    "print(reverse(\"hello\") == \"olleh\");\n",
    "print(reverse(\"Easy homework!\") == \"!krowemoh ysaE\");"
   ]
  },
  {
   "cell_type": "code",
   "execution_count": 5,
   "id": "130b2b0d",
   "metadata": {},
   "outputs": [],
   "source": [
    "# Given a dictionary d, where values are integers, sum up all the values in the dictionary\n",
    "\n",
    "def sumDict(d):\n",
    "    totalSum = 0\n",
    "    for element in d:\n",
    "        value = d.get(element)\n",
    "        totalSum += value\n",
    "    return totalSum"
   ]
  },
  {
   "cell_type": "code",
   "execution_count": 6,
   "id": "76512894",
   "metadata": {},
   "outputs": [
    {
     "name": "stdout",
     "output_type": "stream",
     "text": [
      "True\n",
      "True\n"
     ]
    }
   ],
   "source": [
    "print(sumDict({'a':100, 'b':200, 'c':6}) == 306)\n",
    "print(sumDict({'banana':32, 'orange':12, 'cherry':108}) == 152)"
   ]
  },
  {
   "cell_type": "code",
   "execution_count": 15,
   "id": "d5b16a5d",
   "metadata": {},
   "outputs": [],
   "source": [
    "''' \n",
    "Given a number, return a list of that row of pascal's triangle. Assume positive integer inputs.\n",
    "Pascal's triangle is an arrangement of numbers that give the coefficients in the expansion of any binomial expression.\n",
    "The triangle can be constructed by: \n",
    "    The first row is a one\n",
    "    The second row is two ones\n",
    "    The third row (and beyond) can be filled by adding together the two numbers just above the left and the right position in the triangle\n",
    "    \n",
    "Below is an image from Wikipedia\n",
    "https://wikimedia.org/api/rest_v1/media/math/render/svg/23050fcb53d6083d9e42043bebf2863fa9746043\n",
    "''' \n",
    "\n",
    "\n",
    "def pascals(num):\n",
    "    a = [1]\n",
    "    currentRow = 1\n",
    "    while currentRow < num:\n",
    "        b = [1]\n",
    "        if currentRow == 1:\n",
    "            b = [1,1]\n",
    "            a = b\n",
    "        else:\n",
    "            for i in range(currentRow - 1):\n",
    "                b.append(a[i] + a[i+1])\n",
    "            b.append(1)\n",
    "        a = b\n",
    "        currentRow += 1\n",
    "    return a"
   ]
  },
  {
   "cell_type": "code",
   "execution_count": 3,
   "id": "ca381ba5",
   "metadata": {},
   "outputs": [
    {
     "name": "stdout",
     "output_type": "stream",
     "text": [
      "[1, 1]\n",
      "[1, 2, 1]\n",
      "[1, 6, 15, 20, 15, 6, 1]\n"
     ]
    }
   ],
   "source": [
    "print(pascals(2))\n",
    "print(pascals(3))\n",
    "print(pascals(7))"
   ]
  },
  {
   "cell_type": "code",
   "execution_count": 17,
   "id": "a517340c",
   "metadata": {},
   "outputs": [
    {
     "name": "stdout",
     "output_type": "stream",
     "text": [
      "True\n",
      "True\n",
      "True\n",
      "True\n",
      "True\n"
     ]
    }
   ],
   "source": [
    "print(pascals(1) == [1])\n",
    "print(pascals(2) == [1, 1])\n",
    "print(pascals(3) == [1, 2, 1])\n",
    "print(pascals(9) == [1, 8, 28, 56, 70, 56, 28, 8, 1])"
   ]
  },
  {
   "cell_type": "markdown",
   "id": "d5f51b88",
   "metadata": {},
   "source": [
    "See the attached data set. Perform the following on the data set:\n",
    "\n",
    "1. Address missing values.\n",
    "2. Correct outliers and bad data.\n",
    "3. Perform data reduction to make the data easier to work with, preparing for a relation between an urban population category and a crime type. (Hint: Convert urban population into categories for different sizes, like less than 50%, 50-60%, 60-70%, 70%+ or so)\n",
    "\n",
    "\n",
    "4. After performing the above, what is the Mean and Standard Deviation of the urban population by state?\n",
    "Mean:\n",
    "Standard Deviation:\n"
   ]
  },
  {
   "cell_type": "markdown",
   "id": "e3b30027",
   "metadata": {},
   "source": [
    "\"\"\"\n",
    "mean = 65.74\n",
    "standard deviation = 14.00118071\n",
    "\"\"\""
   ]
  },
  {
   "cell_type": "code",
   "execution_count": 16,
   "id": "6a2278bf",
   "metadata": {},
   "outputs": [
    {
     "data": {
      "text/plain": [
       "13"
      ]
     },
     "execution_count": 16,
     "metadata": {},
     "output_type": "execute_result"
    }
   ],
   "source": [
    "def fib(n):\n",
    "    \"\"\"Returns the F_n term in the Fibonacci sequence\"\"\"\n",
    "    if n == 0:\n",
    "        return 0\n",
    "    elif n == 1:\n",
    "        return 1\n",
    "    else:\n",
    "        return fib(n - 2) + fib(n - 1)\n",
    "fib(7)"
   ]
  },
  {
   "cell_type": "code",
   "execution_count": 17,
   "id": "c3ee60f1",
   "metadata": {},
   "outputs": [],
   "source": [
    "def fibList(num):\n",
    "    fibList = []\n",
    "    for i in range(num):\n",
    "        fibList.append(fib(i))\n",
    "    return fibList"
   ]
  },
  {
   "cell_type": "code",
   "execution_count": 18,
   "id": "9ebe2784",
   "metadata": {},
   "outputs": [
    {
     "data": {
      "text/plain": [
       "[0, 1, 1, 2, 3, 5, 8, 13, 21, 34, 55, 89, 144, 233, 377, 610, 987, 1597]"
      ]
     },
     "execution_count": 18,
     "metadata": {},
     "output_type": "execute_result"
    }
   ],
   "source": [
    "fibList(18)"
   ]
  },
  {
   "cell_type": "code",
   "execution_count": 27,
   "id": "c99cef06",
   "metadata": {},
   "outputs": [
    {
     "name": "stdout",
     "output_type": "stream",
     "text": [
      "[1]\n",
      "[1]\n",
      "[1]\n",
      "[1, 1]\n",
      "[1, 2, 1]\n",
      "[1, 4, 6, 4, 1]\n",
      "[1, 7, 21, 35, 35, 21, 7, 1]\n",
      "[1, 12, 66, 220, 495, 792, 924, 792, 495, 220, 66, 12, 1]\n"
     ]
    }
   ],
   "source": [
    "for i in fibList(8):\n",
    "    print(pascals(i))"
   ]
  },
  {
   "cell_type": "code",
   "execution_count": 28,
   "id": "5732a07e",
   "metadata": {},
   "outputs": [
    {
     "name": "stdout",
     "output_type": "stream",
     "text": [
      "[0]\n",
      "[0, 1, 1, 2, 3, 5]\n",
      "[0, 1, 1, 2, 3, 5, 8, 13, 21, 34, 55, 89, 144, 233, 377]\n",
      "[0, 1, 1, 2, 3, 5, 8, 13, 21, 34, 55, 89, 144, 233, 377, 610, 987, 1597, 2584, 4181]\n",
      "[0, 1, 1, 2, 3, 5, 8, 13, 21, 34, 55, 89, 144, 233, 377]\n",
      "[0, 1, 1, 2, 3, 5]\n",
      "[0]\n"
     ]
    }
   ],
   "source": [
    "for i in pascals(7):\n",
    "    print(fibList(i))"
   ]
  },
  {
   "cell_type": "code",
   "execution_count": null,
   "id": "fb05c3b1",
   "metadata": {},
   "outputs": [],
   "source": []
  },
  {
   "cell_type": "code",
   "execution_count": null,
   "id": "98e2438a",
   "metadata": {},
   "outputs": [],
   "source": []
  },
  {
   "cell_type": "code",
   "execution_count": null,
   "id": "66d9fdbd",
   "metadata": {},
   "outputs": [],
   "source": []
  }
 ],
 "metadata": {
  "kernelspec": {
   "display_name": "Python 3 (ipykernel)",
   "language": "python",
   "name": "python3"
  },
  "language_info": {
   "codemirror_mode": {
    "name": "ipython",
    "version": 3
   },
   "file_extension": ".py",
   "mimetype": "text/x-python",
   "name": "python",
   "nbconvert_exporter": "python",
   "pygments_lexer": "ipython3",
   "version": "3.9.7"
  }
 },
 "nbformat": 4,
 "nbformat_minor": 5
}
