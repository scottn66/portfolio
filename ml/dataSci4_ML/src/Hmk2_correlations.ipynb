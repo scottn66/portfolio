{
 "cells": [
  {
   "cell_type": "code",
   "execution_count": 57,
   "id": "b1eb89e4",
   "metadata": {},
   "outputs": [
    {
     "name": "stdout",
     "output_type": "stream",
     "text": [
      "python is /opt/tljh/user/bin/python\r\n"
     ]
    }
   ],
   "source": [
    "!type -a python"
   ]
  },
  {
   "cell_type": "code",
   "execution_count": 58,
   "id": "8880fcb7",
   "metadata": {},
   "outputs": [],
   "source": [
    "#pip install numpy"
   ]
  },
  {
   "cell_type": "code",
   "execution_count": 59,
   "id": "f8e915af",
   "metadata": {},
   "outputs": [
    {
     "name": "stdout",
     "output_type": "stream",
     "text": [
      "conda is /opt/tljh/user/bin/conda\r\n"
     ]
    }
   ],
   "source": [
    "!type -a conda"
   ]
  },
  {
   "cell_type": "code",
   "execution_count": 60,
   "id": "030443d6",
   "metadata": {},
   "outputs": [
    {
     "name": "stdout",
     "output_type": "stream",
     "text": [
      "pip is /opt/tljh/user/bin/pip\r\n",
      "pip is /usr/bin/pip\r\n",
      "pip is /bin/pip\r\n"
     ]
    }
   ],
   "source": [
    "!type -a pip"
   ]
  },
  {
   "cell_type": "code",
   "execution_count": 61,
   "id": "70e595fb",
   "metadata": {},
   "outputs": [
    {
     "name": "stdout",
     "output_type": "stream",
     "text": [
      "Defaulting to user installation because normal site-packages is not writeable\n",
      "Requirement already satisfied: matplotlib in /home/jupyter-scottn67/.local/lib/python3.9/site-packages (3.5.1)\n",
      "Requirement already satisfied: kiwisolver>=1.0.1 in /home/jupyter-scottn67/.local/lib/python3.9/site-packages (from matplotlib) (1.3.2)\n",
      "Requirement already satisfied: numpy>=1.17 in /home/jupyter-scottn67/.local/lib/python3.9/site-packages (from matplotlib) (1.22.2)\n",
      "Requirement already satisfied: packaging>=20.0 in /opt/tljh/user/lib/python3.9/site-packages (from matplotlib) (21.3)\n",
      "Requirement already satisfied: pillow>=6.2.0 in /home/jupyter-scottn67/.local/lib/python3.9/site-packages (from matplotlib) (9.0.1)\n",
      "Requirement already satisfied: pyparsing>=2.2.1 in /opt/tljh/user/lib/python3.9/site-packages (from matplotlib) (3.0.6)\n",
      "Requirement already satisfied: cycler>=0.10 in /home/jupyter-scottn67/.local/lib/python3.9/site-packages (from matplotlib) (0.11.0)\n",
      "Requirement already satisfied: fonttools>=4.22.0 in /home/jupyter-scottn67/.local/lib/python3.9/site-packages (from matplotlib) (4.29.1)\n",
      "Requirement already satisfied: python-dateutil>=2.7 in /opt/tljh/user/lib/python3.9/site-packages (from matplotlib) (2.8.2)\n",
      "Requirement already satisfied: six>=1.5 in /opt/tljh/user/lib/python3.9/site-packages (from python-dateutil>=2.7->matplotlib) (1.16.0)\n"
     ]
    }
   ],
   "source": [
    "import sys\n",
    "#!{sys.executable} -m pip install numpy\n",
    "#!{sys.executable} -m pip install sklearn\n",
    "#!{sys.executable} -m pip install pandas\n",
    "# Run this the first time to install pandas. Will need to uncomment sys\n",
    "!{sys.executable} -m pip install matplotlib"
   ]
  },
  {
   "cell_type": "code",
   "execution_count": 2,
   "id": "8219d3c9",
   "metadata": {},
   "outputs": [],
   "source": [
    "import numpy as np\n",
    "import sklearn\n",
    "import sklearn.datasets as skdata\n",
    "import pandas as pd\n",
    "import math"
   ]
  },
  {
   "cell_type": "markdown",
   "id": "ba3f3e28",
   "metadata": {},
   "source": [
    "Problem 1.\n",
    "\n",
    "Hw2-1.csv is a small data set of list prices vs best prices for a new GMC pickup truck in $1000s. The x represents the list price, and the y represents the best price. Complete the following:\n",
    "\n",
    "1. Determine the Pearson's correlation coefficient between the list price and best price...\n",
    "2. Establish a linear regr4ession between list price and best price.\n",
    "3. Based on the relationship you found, determine the best price of a pickup whose list price is 25.2 in $1000s."
   ]
  },
  {
   "cell_type": "code",
   "execution_count": 7,
   "id": "27c74ad4",
   "metadata": {},
   "outputs": [],
   "source": [
    "# Code to solve problem 1 here\n",
    "csv1 = pd.read_csv('Hw2-1.csv')\n",
    "x = pd.read_csv('Hw2-1.csv', usecols=['X']).values\n",
    "y = pd.read_csv('Hw2-1.csv', usecols=['Y']).values"
   ]
  },
  {
   "cell_type": "code",
   "execution_count": 8,
   "id": "533dd14b",
   "metadata": {},
   "outputs": [
    {
     "data": {
      "text/plain": [
       "numpy.ndarray"
      ]
     },
     "execution_count": 8,
     "metadata": {},
     "output_type": "execute_result"
    }
   ],
   "source": [
    "type(x)"
   ]
  },
  {
   "cell_type": "code",
   "execution_count": 9,
   "id": "304fa8d7",
   "metadata": {},
   "outputs": [
    {
     "name": "stdout",
     "output_type": "stream",
     "text": [
      "x_mean:  17.465217391304346\n",
      "y_mean:  15.3\n"
     ]
    }
   ],
   "source": [
    "x_mean = x.mean()\n",
    "y_mean = y.mean()\n",
    "print('x_mean: ', x_mean)\n",
    "print('y_mean: ', y_mean)"
   ]
  },
  {
   "cell_type": "code",
   "execution_count": 10,
   "id": "59dd6505",
   "metadata": {},
   "outputs": [],
   "source": [
    "xPart = x - x_mean\n",
    "yPart = y - y_mean\n",
    "spp = sum(x*y)\n",
    "n = len(x)"
   ]
  },
  {
   "cell_type": "code",
   "execution_count": null,
   "id": "29f152c6",
   "metadata": {},
   "outputs": [],
   "source": []
  },
  {
   "cell_type": "code",
   "execution_count": 11,
   "id": "230c19af",
   "metadata": {},
   "outputs": [],
   "source": [
    "def our(n, spp, xP, yP):\n",
    "    return sum((xP*yP) / math.sqrt(sum(xP**2) * sum(yP**2)))"
   ]
  },
  {
   "cell_type": "code",
   "execution_count": 12,
   "id": "6e91207e",
   "metadata": {},
   "outputs": [
    {
     "name": "stdout",
     "output_type": "stream",
     "text": [
      "[0.9985405]\n"
     ]
    }
   ],
   "source": [
    "r = our(n, spp, xPart, yPart)\n",
    "print(r)"
   ]
  },
  {
   "cell_type": "code",
   "execution_count": 13,
   "id": "16d053f5",
   "metadata": {},
   "outputs": [],
   "source": [
    "import matplotlib as mpl\n",
    "import matplotlib.pyplot as plt"
   ]
  },
  {
   "cell_type": "code",
   "execution_count": 14,
   "id": "400a1451",
   "metadata": {},
   "outputs": [
    {
     "data": {
      "text/plain": [
       "[<matplotlib.lines.Line2D at 0x7fce2f147d00>]"
      ]
     },
     "execution_count": 14,
     "metadata": {},
     "output_type": "execute_result"
    },
    {
     "data": {
      "image/png": "[encoded data removed]",
      "text/plain": [
       "<Figure size 432x288 with 1 Axes>"
      ]
     },
     "metadata": {
      "needs_background": "light"
     },
     "output_type": "display_data"
    }
   ],
   "source": [
    "fig, ax = plt.subplots() #create a figure containing a single axis\n",
    "ax.plot(x,y)"
   ]
  },
  {
   "cell_type": "code",
   "execution_count": 15,
   "id": "c8efa723",
   "metadata": {},
   "outputs": [],
   "source": [
    "#fig, axs = plt.subplots(2, 2) \n",
    "#fig, ax = plt.subplots()\n",
    "\n",
    "#ax.scatter(data=csv1)"
   ]
  },
  {
   "cell_type": "code",
   "execution_count": 16,
   "id": "88a2f7ba",
   "metadata": {
    "scrolled": false
   },
   "outputs": [
    {
     "name": "stdout",
     "output_type": "stream",
     "text": [
      "scale:  [79.98995282 72.15447266 29.53639811 16.09458806 20.61255148 13.43253868\n",
      " 48.06050174 34.25218134 36.29692901 97.29176387 11.09436116 38.82640891\n",
      " 78.30658753 97.28972601 48.32096053 33.64211054 56.74190362  4.79415097\n",
      " 38.8937029  90.63036451 16.10182093 74.36211347 63.29741618]\n"
     ]
    },
    {
     "data": {
      "image/png": "[encoded data removed]",
      "text/plain": [
       "<Figure size 432x288 with 1 Axes>"
      ]
     },
     "metadata": {
      "needs_background": "light"
     },
     "output_type": "display_data"
    }
   ],
   "source": [
    "np.random.seed(19680801)\n",
    "\n",
    "fig, ax = plt.subplots()\n",
    "for color in ['tab:blue', 'tab:red']:\n",
    "    n = len(x)\n",
    "    scale = 100.0 * np.random.rand(n)\n",
    "    ax.scatter(x, y, c=color, s=None, label=color,\n",
    "               alpha=0.9, edgecolors='blue')\n",
    "\n",
    "ax.legend()\n",
    "ax.grid(True)\n",
    "print('scale: ', scale)\n",
    "plt.show()"
   ]
  },
  {
   "cell_type": "code",
   "execution_count": 17,
   "id": "b3476f7a",
   "metadata": {},
   "outputs": [
    {
     "name": "stdout",
     "output_type": "stream",
     "text": [
      "\n",
      "hypothesis\n",
      "y =  [0.851144] x + [0.43458496]\n"
     ]
    }
   ],
   "source": [
    "b1 = r * (np.std(y)/np.std(x))\n",
    "print()\n",
    "b0 = y_mean - b1*(x_mean)\n",
    "print(\"hypothesis\")\n",
    "print(\"y = \", b1, \"x +\", b0)\n"
   ]
  },
  {
   "cell_type": "code",
   "execution_count": 18,
   "id": "0f0e32b5",
   "metadata": {},
   "outputs": [
    {
     "name": "stdout",
     "output_type": "stream",
     "text": [
      "[21.88341383]\n"
     ]
    }
   ],
   "source": [
    "#25.2 in thousands\n",
    "instance_example = 25.2\n",
    "prediction_y = b1*instance_example + b0\n",
    "print(prediction_y)"
   ]
  },
  {
   "cell_type": "markdown",
   "id": "48fdde45",
   "metadata": {},
   "source": [
    "Problem 2. \n",
    "\n",
    "Hw2-2.csv contains a fictional dataset about the number of visitors to Asbury Park, NJ, in hundreds a day, the numeber of tickets issued for parking violations, and the average temperature (in Celcius) for the same day.\n",
    "\n",
    "Use the data set to complete the following:\n",
    "\n",
    "1. Determine the relationship between the number of visitors and the number of parking tickets issued.\n",
    "2. Find out the regression coefficient between the temperature and the number of visitors.\n",
    "3. Look for any possible relationship between the temperature and the number of parking tickets issued."
   ]
  },
  {
   "cell_type": "code",
   "execution_count": 19,
   "id": "579f3636",
   "metadata": {},
   "outputs": [
    {
     "data": {
      "text/html": [
       "<div>\n",
       "<style scoped>\n",
       "    .dataframe tbody tr th:only-of-type {\n",
       "        vertical-align: middle;\n",
       "    }\n",
       "\n",
       "    .dataframe tbody tr th {\n",
       "        vertical-align: top;\n",
       "    }\n",
       "\n",
       "    .dataframe thead th {\n",
       "        text-align: right;\n",
       "    }\n",
       "</style>\n",
       "<table border=\"1\" class=\"dataframe\">\n",
       "  <thead>\n",
       "    <tr style=\"text-align: right;\">\n",
       "      <th></th>\n",
       "      <th>Number of visitors (in hundreds a day)</th>\n",
       "      <th>Number of parking tickets</th>\n",
       "      <th>Average Temperature</th>\n",
       "    </tr>\n",
       "  </thead>\n",
       "  <tbody>\n",
       "    <tr>\n",
       "      <th>Number of visitors (in hundreds a day)</th>\n",
       "      <td>1.000000</td>\n",
       "      <td>0.804424</td>\n",
       "      <td>0.681572</td>\n",
       "    </tr>\n",
       "    <tr>\n",
       "      <th>Number of parking tickets</th>\n",
       "      <td>0.804424</td>\n",
       "      <td>1.000000</td>\n",
       "      <td>0.807333</td>\n",
       "    </tr>\n",
       "    <tr>\n",
       "      <th>Average Temperature</th>\n",
       "      <td>0.681572</td>\n",
       "      <td>0.807333</td>\n",
       "      <td>1.000000</td>\n",
       "    </tr>\n",
       "  </tbody>\n",
       "</table>\n",
       "</div>"
      ],
      "text/plain": [
       "                                        Number of visitors (in hundreds a day)  \\\n",
       "Number of visitors (in hundreds a day)                                1.000000   \n",
       "Number of parking tickets                                             0.804424   \n",
       "Average Temperature                                                   0.681572   \n",
       "\n",
       "                                        Number of parking tickets  \\\n",
       "Number of visitors (in hundreds a day)                   0.804424   \n",
       "Number of parking tickets                                1.000000   \n",
       "Average Temperature                                      0.807333   \n",
       "\n",
       "                                        Average Temperature  \n",
       "Number of visitors (in hundreds a day)             0.681572  \n",
       "Number of parking tickets                          0.807333  \n",
       "Average Temperature                                1.000000  "
      ]
     },
     "execution_count": 19,
     "metadata": {},
     "output_type": "execute_result"
    }
   ],
   "source": [
    "# Code to solve problem 2 here\n",
    "csv1 = pd.read_csv('Hw2-2.csv')\n",
    "a = pd.read_csv('Hw2-2.csv', usecols=['Number of visitors (in hundreds a day)']).values\n",
    "b = pd.read_csv('Hw2-2.csv', usecols=['Number of parking tickets']).values\n",
    "c = pd.read_csv('Hw2-2.csv', usecols=['Average Temperature']).values\n",
    "#print(a)\n",
    "#print(\"_________\")\n",
    "#print(b)\n",
    "#print(len(a)==len(b))\n",
    "type(csv1)\n",
    "csv1.corr()"
   ]
  },
  {
   "cell_type": "code",
   "execution_count": 20,
   "id": "a021b0c5",
   "metadata": {},
   "outputs": [],
   "source": [
    "a_mean = a.mean()\n",
    "b_mean = b.mean()\n",
    "c_mean = c.mean()\n",
    "aPart = a - a_mean\n",
    "bPart = b - b_mean\n",
    "cPart = c - c_mean\n",
    "spp_ab = sum(a*b)\n",
    "spp_ac = sum(a*c)\n",
    "spp_bc = sum(b*c)\n",
    "n = len(x)"
   ]
  },
  {
   "cell_type": "code",
   "execution_count": 21,
   "id": "14c21951",
   "metadata": {},
   "outputs": [],
   "source": [
    "#r_ab = np.corrcoef(a.astype(float), b.astype(float))\n",
    "#r_ac = np.corrcoef(a, c)\n",
    "#r_cb = np.corrcoef(c, b)\n",
    "#our(n, spp, xP, yP)\n",
    "r_ab = our(n, spp_ab, aPart, bPart)\n",
    "r_ac = our(n, spp_ac, aPart, cPart)\n",
    "r_bc = our(n, spp_bc, bPart, cPart)"
   ]
  },
  {
   "cell_type": "code",
   "execution_count": 22,
   "id": "50331ca0",
   "metadata": {},
   "outputs": [
    {
     "name": "stdout",
     "output_type": "stream",
     "text": [
      "1. r of nVisitors and parking tickets :  [0.80442432]\n",
      "2. r of nVisitors and mean temperature:  [0.68157238]\n",
      "3. r of park tickets & avg temperature:  [0.80733312]\n"
     ]
    }
   ],
   "source": [
    "print(\"1. r of nVisitors and parking tickets : \", r_ab)\n",
    "print(\"2. r of nVisitors and mean temperature: \", r_ac)\n",
    "print(\"3. r of park tickets & avg temperature: \" ,r_bc)"
   ]
  },
  {
   "cell_type": "markdown",
   "id": "d09b5951",
   "metadata": {},
   "source": [
    "Problem 3. \n",
    "The first line of code loads the diabetes dataset from scikit-learn's toy datasets. More information can be found here: https://scikit-learn.org/stable/datasets/toy_dataset.html\n",
    "\n",
    "To get the feature names of the dataset back, use \"diabetes_data.feature_names\". The following are details about some of the attributes. \n",
    "\n",
    "s1 tc, total serum cholesterol\n",
    "s2 ldl, low-density lipoproteins\n",
    "s3 hdl, high-density lipoproteins\n",
    "s4 tch, total cholesterol / HDL\n",
    "s5 ltg, possibly log of serum triglycerides level\n",
    "s6 glu, blood sugar level\n",
    "\n",
    "Note: all of these data points have been mean centered and scaled by the standard deviation, so negative value just means below the mean for the data set.\n",
    "\n",
    "For this dataset, your goal is to find the feature that has the highest Pearson's correlation coefficient when checked against their BMI (BMI and what other column have the highest correlation?). \n",
    "Feature with highest Pearson's correlation coefficient to BMI:\n",
    "\n",
    "\n",
    "\n",
    "Once you have determined the highest correlation, graph the data using matplotlib. If you need help with matplotlib, start be exploring their documentation and tutorials https://matplotlib.org/stable/tutorials/introductory/pyplot.html\n",
    "Put your code to solve the correlation in the next cell, and your code to generate a graph in the following"
   ]
  },
  {
   "cell_type": "code",
   "execution_count": 65,
   "id": "bd57c818",
   "metadata": {},
   "outputs": [
    {
     "name": "stdout",
     "output_type": "stream",
     "text": [
      "['age', 'sex', 'bmi', 'bp', 's1', 's2', 's3', 's4', 's5', 's6']\n"
     ]
    }
   ],
   "source": [
    "# Put your code here to solve the correlation problem\n",
    "diabetes_data = skdata.load_diabetes()\n",
    "#print(diabetes_data)\n",
    "print(diabetes_data.feature_names)\n",
    "type(diabetes_data.data)\n",
    "#test = diabetes_data[:,1]\n",
    "\n",
    "feature_colnames = diabetes_data.feature_names"
   ]
  },
  {
   "cell_type": "code",
   "execution_count": 66,
   "id": "0aa56e0b",
   "metadata": {},
   "outputs": [
    {
     "name": "stdout",
     "output_type": "stream",
     "text": [
      "best correlated feature with BMI:  s5 :  0.4461586482466502\n"
     ]
    }
   ],
   "source": [
    "features = diabetes_data.feature_names\n",
    "df = pd.DataFrame(diabetes_data.data, columns=feature_colnames)\n",
    "rMatrix = df.corr()\n",
    "rBMI = rMatrix['bmi']\n",
    "vals = rBMI.values\n",
    "m = 0\n",
    "c = 0\n",
    "\n",
    "def maximum(v, m):\n",
    "    for i in range(len(v)):\n",
    "        if (i != 2 and v[i] > m):\n",
    "            m = v[i]\n",
    "            c = i\n",
    "    return c\n",
    "\n",
    "\n",
    "r_col = maximum(vals, m)\n",
    "print(\"best correlated feature with BMI: \",features[r_col], \": \", vals[r_col])"
   ]
  },
  {
   "cell_type": "code",
   "execution_count": 67,
   "id": "cdc7524e",
   "metadata": {},
   "outputs": [
    {
     "data": {
      "text/plain": [
       "\"copyFeatures = features\\na = rBMI.values\\ntype(a)\\nb = np.delete(a, 2)\\ncorrelations = np.sort(b)\\nprint(c)\\nf = copyFeatures.remove('bmi')\\nprint(features)\""
      ]
     },
     "execution_count": 67,
     "metadata": {},
     "output_type": "execute_result"
    }
   ],
   "source": [
    "# Put your code here to generate your graph\n",
    "\"\"\"copyFeatures = features\n",
    "a = rBMI.values\n",
    "type(a)\n",
    "b = np.delete(a, 2)\n",
    "correlations = np.sort(b)\n",
    "print(c)\n",
    "f = copyFeatures.remove('bmi')\n",
    "print(features)\"\"\""
   ]
  },
  {
   "cell_type": "code",
   "execution_count": 69,
   "id": "0cca16e2",
   "metadata": {},
   "outputs": [
    {
     "data": {
      "image/png": "[encoded data removed]",
      "text/plain": [
       "<Figure size 648x216 with 3 Axes>"
      ]
     },
     "metadata": {
      "needs_background": "light"
     },
     "output_type": "display_data"
    }
   ],
   "source": [
    "names = diabetes_data.feature_names\n",
    "values = vals\n",
    "\n",
    "\n",
    "plt.figure(figsize=(9, 3))\n",
    "\n",
    "plt.subplot(131)\n",
    "plt.bar(names, values)\n",
    "plt.subplot(132)\n",
    "plt.scatter(names, values)\n",
    "plt.subplot(133)\n",
    "plt.plot(names, values)\n",
    "plt.title('correlations with BMI')\n",
    "plt.show()\n"
   ]
  },
  {
   "cell_type": "code",
   "execution_count": 60,
   "id": "e95fe04c",
   "metadata": {},
   "outputs": [
    {
     "data": {
      "text/plain": [
       "<matplotlib.collections.PathCollection at 0x7fce2c7a2d30>"
      ]
     },
     "execution_count": 60,
     "metadata": {},
     "output_type": "execute_result"
    },
    {
     "data": {
      "image/png": "[encoded data removed]",
      "text/plain": [
       "<Figure size 432x288 with 1 Axes>"
      ]
     },
     "metadata": {
      "needs_background": "light"
     },
     "output_type": "display_data"
    }
   ],
   "source": [
    "plt.scatter(df['bmi'], df['s5'])\n"
   ]
  },
  {
   "cell_type": "code",
   "execution_count": 82,
   "id": "0e685aec",
   "metadata": {
    "scrolled": true
   },
   "outputs": [
    {
     "name": "stdout",
     "output_type": "stream",
     "text": [
      "['0.1850846661465558' '0.08816139902276221' '0.9999999999999996'\n",
      " '0.39541532116226696' '0.24977742174241233' '0.26116991116442567'\n",
      " '-0.3668109784050296' '0.4138066018314405' '0.4461586482466502'\n",
      " '0.38867999390003916']\n",
      "['age' 'sex' 'bmi' 'bp' 's1' 's2' 's3' 's4' 's5' 's6']\n"
     ]
    }
   ],
   "source": [
    "z = np.vstack((vals, names))\n",
    "rDictionary = {}\n",
    "def makeDict(npArr, dictionary):\n",
    "    for i in npArr:\n",
    "        #rDictionary[key] = value\n",
    "        rDictionary[]"
   ]
  },
  {
   "cell_type": "code",
   "execution_count": 29,
   "id": "7d8de293",
   "metadata": {},
   "outputs": [],
   "source": [
    "r_matrix = df.corr()\n",
    "\n",
    "r_bmi = r_matrix.loc[:, 'bmi']\n",
    "\n",
    "\n",
    "#test = df.corr()['bmi']\n",
    "#r = corr_w_bmi.sort_values"
   ]
  },
  {
   "cell_type": "code",
   "execution_count": 62,
   "id": "6c69cd25",
   "metadata": {},
   "outputs": [
    {
     "data": {
      "image/png": "[encoded data removed]",
      "text/plain": [
       "<Figure size 432x288 with 3 Axes>"
      ]
     },
     "metadata": {
      "needs_background": "light"
     },
     "output_type": "display_data"
    }
   ],
   "source": [
    "import matplotlib.gridspec as gridspec\n",
    "fig = plt.figure(tight_layout=True)\n",
    "gs = gridspec.GridSpec(2, 2)\n",
    "\n",
    "ax = fig.add_subplot(gs[0, :])\n",
    "ax.plot(np.arange(0, 1e6, 1000))\n",
    "ax.set_ylabel('YLabel0')\n",
    "ax.set_xlabel('XLabel0')\n",
    "\n",
    "for i in range(2):\n",
    "    ax = fig.add_subplot(gs[1, i])\n",
    "    ax.plot(np.arange(1., 0., -0.1) * 2000., np.arange(1., 0., -0.1))\n",
    "    ax.set_ylabel('YLabel1 %d' % i)\n",
    "    ax.set_xlabel('XLabel1 %d' % i)\n",
    "    if i == 0:\n",
    "        for tick in ax.get_xticklabels():\n",
    "            tick.set_rotation(55)\n",
    "fig.align_labels()  # same as fig.align_xlabels(); fig.align_ylabels()\n",
    "\n",
    "plt.show()"
   ]
  },
  {
   "cell_type": "code",
   "execution_count": null,
   "id": "f8a6d814",
   "metadata": {},
   "outputs": [],
   "source": []
  },
  {
   "cell_type": "code",
   "execution_count": null,
   "id": "8bbdd9f2",
   "metadata": {},
   "outputs": [],
   "source": []
  },
  {
   "cell_type": "code",
   "execution_count": null,
   "id": "c4966652",
   "metadata": {},
   "outputs": [],
   "source": []
  }
 ],
 "metadata": {
  "kernelspec": {
   "display_name": "Python 3 (ipykernel)",
   "language": "python",
   "name": "python3"
  },
  "language_info": {
   "codemirror_mode": {
    "name": "ipython",
    "version": 3
   },
   "file_extension": ".py",
   "mimetype": "text/x-python",
   "name": "python",
   "nbconvert_exporter": "python",
   "pygments_lexer": "ipython3",
   "version": "3.9.7"
  }
 },
 "nbformat": 4,
 "nbformat_minor": 5
}
