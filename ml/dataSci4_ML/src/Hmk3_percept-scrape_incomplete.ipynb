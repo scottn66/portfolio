{
 "cells": [
  {
   "cell_type": "code",
   "execution_count": 11,
   "id": "a3d379c0",
   "metadata": {},
   "outputs": [
    {
     "name": "stdout",
     "output_type": "stream",
     "text": [
      "0.6459627329192547\n"
     ]
    },
    {
     "name": "stderr",
     "output_type": "stream",
     "text": [
      "/home/jupyter-scottn67/.local/lib/python3.9/site-packages/sklearn/utils/validation.py:993: DataConversionWarning: A column-vector y was passed when a 1d array was expected. Please change the shape of y to (n_samples, ), for example using ravel().\n",
      "  y = column_or_1d(y, warn=True)\n"
     ]
    }
   ],
   "source": [
    "# Perceptron\n",
    "\n",
    "modality = Perceptron(penalty=None)\n",
    "modality.fit(X_train, y_train)\n",
    "logit = modality.score(X_test, y_test)\n",
    "print(logit)"
   ]
  },
  {
   "cell_type": "code",
   "execution_count": 12,
   "id": "3fb79813",
   "metadata": {},
   "outputs": [
    {
     "name": "stdout",
     "output_type": "stream",
     "text": [
      "0.6335403726708074\n"
     ]
    },
    {
     "name": "stderr",
     "output_type": "stream",
     "text": [
      "/home/jupyter-scottn67/.local/lib/python3.9/site-packages/sklearn/utils/validation.py:993: DataConversionWarning: A column-vector y was passed when a 1d array was expected. Please change the shape of y to (n_samples, ), for example using ravel().\n",
      "  y = column_or_1d(y, warn=True)\n"
     ]
    }
   ],
   "source": [
    "from sklearn.linear_model import SGDClassifier\n",
    "#Stochastic Gradient Descent\n",
    "\n",
    "sgd_clf = SGDClassifier()\n",
    "sgd_clf.fit(X_train, y_train)\n",
    "print(sgd_clf.score(X_test, y_test))"
   ]
  },
  {
   "cell_type": "code",
   "execution_count": 14,
   "id": "c543cdae",
   "metadata": {},
   "outputs": [
    {
     "name": "stdout",
     "output_type": "stream",
     "text": [
      "[0.30320564 0.26318574 0.26048957 0.12457104 0.20298047]\n"
     ]
    }
   ],
   "source": [
    "# Cross Validation\n",
    "\n",
    "from sklearn import datasets, linear_model\n",
    "from sklearn.model_selection import cross_val_score\n",
    "#diabetes = datasets.load_diabetes()\n",
    "\n",
    "lasso = linear_model.Lasso()\n",
    "\n",
    "print(cross_val_score(lasso, X, y, cv=5))\n"
   ]
  },
  {
   "cell_type": "code",
   "execution_count": 15,
   "id": "de73d3a5",
   "metadata": {},
   "outputs": [
    {
     "name": "stderr",
     "output_type": "stream",
     "text": [
      "/home/jupyter-scottn67/.local/lib/python3.9/site-packages/sklearn/utils/validation.py:993: DataConversionWarning: A column-vector y was passed when a 1d array was expected. Please change the shape of y to (n_samples, ), for example using ravel().\n",
      "  y = column_or_1d(y, warn=True)\n",
      "/home/jupyter-scottn67/.local/lib/python3.9/site-packages/sklearn/utils/validation.py:993: DataConversionWarning: A column-vector y was passed when a 1d array was expected. Please change the shape of y to (n_samples, ), for example using ravel().\n",
      "  y = column_or_1d(y, warn=True)\n",
      "/home/jupyter-scottn67/.local/lib/python3.9/site-packages/sklearn/utils/validation.py:993: DataConversionWarning: A column-vector y was passed when a 1d array was expected. Please change the shape of y to (n_samples, ), for example using ravel().\n",
      "  y = column_or_1d(y, warn=True)\n"
     ]
    },
    {
     "data": {
      "text/plain": [
       "array([0.648, 0.648, 0.64 ])"
      ]
     },
     "execution_count": 15,
     "metadata": {},
     "output_type": "execute_result"
    }
   ],
   "source": [
    "from sklearn.model_selection import StratifiedKFold\n",
    "from sklearn.base import clone\n",
    "from sklearn.model_selection import cross_val_score\n",
    "\n",
    "cross_val_score(sgd_clf, X_train, y_train, cv=3, scoring=\"accuracy\")"
   ]
  },
  {
   "cell_type": "code",
   "execution_count": 19,
   "id": "571afbce",
   "metadata": {},
   "outputs": [],
   "source": [
    "from sklearn.cluster import MeanShift\n",
    "\n",
    "means = MeanShift()\n",
    "means.fit(X)\n",
    "\n",
    "centroids = means.cluster_centers_ # coordinates of center of clusters\n",
    "labels = means.labels_ # Label of each point, returns an array of \n",
    "\n",
    "#print(centroids)\n",
    "#print(labels)\n",
    "\n",
    "#print(\"X: \", X.shape)\n",
    "#print(X)\n",
    "\n",
    "#print(\"y: \", y.shape)\n",
    "#print(y)"
   ]
  },
  {
   "cell_type": "code",
   "execution_count": 20,
   "id": "c7be6be0",
   "metadata": {},
   "outputs": [
    {
     "name": "stdout",
     "output_type": "stream",
     "text": [
      "(375, 8)\n",
      "(375, 1)\n",
      "(161, 8)\n",
      "(161, 1)\n"
     ]
    },
    {
     "name": "stderr",
     "output_type": "stream",
     "text": [
      "/home/jupyter-scottn67/.local/lib/python3.9/site-packages/sklearn/utils/validation.py:993: DataConversionWarning: A column-vector y was passed when a 1d array was expected. Please change the shape of y to (n_samples, ), for example using ravel().\n",
      "  y = column_or_1d(y, warn=True)\n"
     ]
    }
   ],
   "source": [
    "from sklearn.naive_bayes import CategoricalNB\n",
    "\n",
    "bayes = CategoricalNB().fit(X_train, y_train)\n",
    "\n",
    "\n",
    "#nbLogit = bayes.score(X_test, y_test, sample_weight=None)\n",
    "\n",
    "#logit = cross_val_score(linear_model.Lasso(), X, y, cv=3)\n",
    "#print(logit)\n",
    "print(X_train.shape)\n",
    "print(y_train.shape)\n",
    "\n",
    "print(X_test.shape)\n",
    "print(y_test.shape)"
   ]
  },
  {
   "cell_type": "markdown",
   "id": "99dac0a3",
   "metadata": {},
   "source": [
    "Problem 2. \n",
    "tripadvisor_review.csv contains some data from a travel reviews dataset, which was created by crawling the traveler’s review from TripAdvisor.com. Reviews on destinations across East Asia are considered in 10 different categories. Each traveler’s rating is categorized from 0(terrible) to 4(excellent), and we have access to average rating. Use the clustering method learned in class to find those with the most similar ratings.\n",
    "\n",
    "Below, provide your code used to cluster the tripadvisor_review.csv data."
   ]
  },
  {
   "cell_type": "code",
   "execution_count": 21,
   "id": "b3587006",
   "metadata": {},
   "outputs": [
    {
     "name": "stdout",
     "output_type": "stream",
     "text": [
      "(980, 11)\n",
      "[ nan 0.93 1.8  2.29 0.62 0.8  2.42 3.19 2.79 1.82 2.42]\n"
     ]
    }
   ],
   "source": [
    "dat = pd.read_csv(\"tripadvisor_review.csv\")\n",
    "data = np.genfromtxt('tripadvisor_review.csv', skip_header=1, delimiter=',')\n",
    "\n",
    "print(data.shape)\n",
    "\n",
    "print(data[0])"
   ]
  },
  {
   "cell_type": "code",
   "execution_count": 22,
   "id": "7358e9b1",
   "metadata": {},
   "outputs": [
    {
     "name": "stdout",
     "output_type": "stream",
     "text": [
      "(979, 10)\n"
     ]
    }
   ],
   "source": [
    "reviews = data[1:,1:]\n",
    "print(reviews.shape)"
   ]
  },
  {
   "cell_type": "code",
   "execution_count": 23,
   "id": "403cf273",
   "metadata": {},
   "outputs": [],
   "source": [
    "import matplotlib.pyplot as plt\n",
    "from sklearn.cluster import KMeans\n",
    "from sklearn.cluster import MeanShift\n",
    "\n",
    "#km = KMeans(n_clusters=5) #0-4\n",
    "#km.fit(reviews)\n",
    "\n",
    "#centroids = km.cluster_centers_\n",
    "#labels = km.labels_\n",
    "#print(centroids)\n",
    "##print(labels)"
   ]
  },
  {
   "cell_type": "code",
   "execution_count": 24,
   "id": "f9a8deab",
   "metadata": {},
   "outputs": [],
   "source": [
    "# Mean Shift Clustering\n",
    "\n",
    "ms = MeanShift()\n",
    "ms.fit(reviews)\n",
    "\n",
    "cluster_centers = ms.cluster_centers_ # coordinates of center of clusters\n",
    "labels = ms.labels_ # Label of each point, returns an array of \n",
    "\n",
    "#print(ms_centroids)\n",
    "#print(ms_labels)"
   ]
  },
  {
   "cell_type": "code",
   "execution_count": 25,
   "id": "5e1d5458",
   "metadata": {},
   "outputs": [
    {
     "name": "stdout",
     "output_type": "stream",
     "text": [
      "number of estimated clusters : 5\n"
     ]
    }
   ],
   "source": [
    "labels_unique = np.unique(labels)\n",
    "n_clusters_ = len(labels_unique)\n",
    "\n",
    "print(\"number of estimated clusters : %d\" % n_clusters_)"
   ]
  },
  {
   "cell_type": "code",
   "execution_count": 26,
   "id": "c833079d",
   "metadata": {},
   "outputs": [
    {
     "data": {
      "image/png": "[encoded data removed]",
      "text/plain": [
       "<Figure size 432x288 with 1 Axes>"
      ]
     },
     "metadata": {
      "needs_background": "light"
     },
     "output_type": "display_data"
    },
    {
     "name": "stdout",
     "output_type": "stream",
     "text": [
      "[0.7  1.8  3.62 1.37 1.46 1.62 3.19 2.75 1.12 3.42]\n"
     ]
    }
   ],
   "source": [
    "import matplotlib.pyplot as plt\n",
    "from itertools import cycle\n",
    "\n",
    "plt.figure\n",
    "plt.clf\n",
    "\n",
    "colors = cycle(\"bgrcmykbgrcmykbgrcmykbgrcmyk\")\n",
    "\n",
    "for k, col in zip(range(n_clusters_), colors):\n",
    "    my_members = labels == k\n",
    "    cluster_center = cluster_centers[k]\n",
    "    plt.plot(reviews[my_members, 0], reviews[my_members, 1], col + \".\")\n",
    "    plt.plot(\n",
    "        cluster_center[0],\n",
    "        cluster_center[1],\n",
    "        \"o\",\n",
    "        markerfacecolor=col,\n",
    "        markeredgecolor=\"k\",\n",
    "        markersize=14,\n",
    "    )\n",
    "    \n",
    "plt.title(\"Estimated number of clusters : %d\" % n_clusters_)\n",
    "plt.show()\n",
    "print(cluster_center)"
   ]
  },
  {
   "cell_type": "markdown",
   "id": "cd5fb098",
   "metadata": {},
   "source": [
    "Problem 3. You are tasked with collecting information about books. You are told that the following website has really good information:\n",
    "\n",
    "http://books.toscrape.com/\n",
    "\n",
    "You are tasked with accomplishing the following tasks:\n",
    "\n",
    "1. Find the title of the most expensive book on the website.\n",
    "2. For all of the \"Travel\" books, find their names and how many copies are in stock. Write them out as a list: [(Bookname, Stock), (Bookname, Stock)...]..\n",
    "3. Find the name of the book which has a UPC of 7e9068872228c474\n",
    "\n",
    "Provide your code used to find the following in cells below (Would recommend using multiple cells, maybe one for each problem)\n",
    "In this cell, provide your solutions you've found.\n",
    "\n",
    "Answers:\n",
    "1.\n",
    "2. \n",
    "3. "
   ]
  },
  {
   "cell_type": "code",
   "execution_count": 1,
   "id": "bb868a0f",
   "metadata": {},
   "outputs": [
    {
     "name": "stdout",
     "output_type": "stream",
     "text": [
      "57.25 Our Band Could Be Your Life: Scenes from the American Indie Underground, 1981-1991\n"
     ]
    }
   ],
   "source": [
    "import requests\n",
    "\n",
    "from bs4 import BeautifulSoup\n",
    "\n",
    "URL = \"https://books.toscrape.com/\"\n",
    "\n",
    "page = requests.get(URL)\n",
    "\n",
    "#print(page.text)\n",
    "\n",
    "soup = BeautifulSoup(page.content, \"html.parser\")\n",
    "\n",
    "results = soup.find(class_=\"col-sm-8 col-md-9\")\n",
    "\n",
    "books = results.find_all(\"li\", class_=\"col-xs-6 col-sm-4 col-md-3 col-lg-3\")\n",
    "\n",
    "#print(soup)\n",
    "#print(results)\n",
    "\n",
    "highestPrice = 0\n",
    "expensiveTitle = \"\"\n",
    "\n",
    "for book in books:\n",
    "    title = book.find(\"img\", alt=True)[\"alt\"]\n",
    "    price = book.find(\"p\", class_ = \"price_color\").text\n",
    "    price = str(price.replace(\"£\", \"\"))\n",
    "    #print(title, price)\n",
    "    if (float(price) > float(highestPrice)):\n",
    "        highestPrice = price\n",
    "        expensiveTitle = title\n",
    "\n",
    "print(highestPrice, expensiveTitle)\n",
    "    "
   ]
  },
  {
   "cell_type": "code",
   "execution_count": 2,
   "id": "276c5ac5",
   "metadata": {},
   "outputs": [
    {
     "name": "stdout",
     "output_type": "stream",
     "text": [
      "58.99 Listen to Me (Fusion #1)\n"
     ]
    }
   ],
   "source": [
    "for i in range(49):\n",
    "    if i == 0:\n",
    "        continue\n",
    "    URL = \"https://books.toscrape.com/\" + \"catalogue/page-\" +str(i+1) + \".html\"\n",
    "    page = requests.get(URL)\n",
    "    soup = BeautifulSoup(page.content, \"html.parser\")\n",
    "    results = soup.find(class_=\"col-sm-8 col-md-9\")\n",
    "    books = results.find_all(\"li\", class_=\"col-xs-6 col-sm-4 col-md-3 col-lg-3\")\n",
    "    highestPrice = 0\n",
    "    expensiveTitle = \"\"\n",
    "\n",
    "    for book in books:\n",
    "        title = book.find(\"img\", alt=True)[\"alt\"]\n",
    "        price = book.find(\"p\", class_ = \"price_color\").text\n",
    "        price = str(price.replace(\"£\", \"\"))\n",
    "        #print(title, price)\n",
    "        if (float(price) > float(highestPrice)):\n",
    "            highestPrice = price\n",
    "            expensiveTitle = title\n",
    "    finalHigh = 0\n",
    "    finalTitle = \"\"\n",
    "    if (float(highestPrice) > finalHigh):\n",
    "        finalHigh = highestPrice\n",
    "        finalTitle = expensiveTitle\n",
    "\n",
    "print(finalHigh, finalTitle)"
   ]
  },
  {
   "cell_type": "code",
   "execution_count": 29,
   "id": "eca7c465",
   "metadata": {},
   "outputs": [],
   "source": [
    "# Write your code here"
   ]
  },
  {
   "cell_type": "code",
   "execution_count": 30,
   "id": "0f38cf7b",
   "metadata": {},
   "outputs": [
    {
     "ename": "NameError",
     "evalue": "name 'dic' is not defined",
     "output_type": "error",
     "traceback": [
      "\u001b[0;31m---------------------------------------------------------------------------\u001b[0m",
      "\u001b[0;31mNameError\u001b[0m                                 Traceback (most recent call last)",
      "Input \u001b[0;32mIn [30]\u001b[0m, in \u001b[0;36m<module>\u001b[0;34m\u001b[0m\n\u001b[1;32m     39\u001b[0m bookStock \u001b[38;5;241m=\u001b[39m bookSoup\u001b[38;5;241m.\u001b[39mfind(\u001b[38;5;124m\"\u001b[39m\u001b[38;5;124mp\u001b[39m\u001b[38;5;124m\"\u001b[39m, class_\u001b[38;5;241m=\u001b[39m\u001b[38;5;124m\"\u001b[39m\u001b[38;5;124minstock availability\u001b[39m\u001b[38;5;124m\"\u001b[39m)\n\u001b[1;32m     40\u001b[0m stocks \u001b[38;5;241m=\u001b[39m bookStock\u001b[38;5;241m.\u001b[39mtext[\u001b[38;5;241m25\u001b[39m:]\u001b[38;5;241m.\u001b[39msplit(\u001b[38;5;124m\"\u001b[39m\u001b[38;5;124m \u001b[39m\u001b[38;5;124m\"\u001b[39m)[\u001b[38;5;241m0\u001b[39m]\n\u001b[0;32m---> 41\u001b[0m \u001b[43mdic\u001b[49m[title] \u001b[38;5;241m=\u001b[39m stocks\n\u001b[1;32m     42\u001b[0m aye \u001b[38;5;241m=\u001b[39m (title, stocks)\n\u001b[1;32m     43\u001b[0m libres\u001b[38;5;241m.\u001b[39mappend(aye)\n",
      "\u001b[0;31mNameError\u001b[0m: name 'dic' is not defined"
     ]
    }
   ],
   "source": [
    "URL = \"http://books.toscrape.com/catalogue/category/books/travel_2/index.html\"\n",
    "\n",
    "page = requests.get(URL)\n",
    "\n",
    "#print(page.text)\n",
    "\n",
    "soup = BeautifulSoup(page.content, \"html.parser\")\n",
    "\n",
    "\n",
    "\n",
    "travelresults = soup.find(class_=\"col-sm-8 col-md-9\")\n",
    "#print(travelresults.text)\n",
    "travelBooksResults = travelresults.find(\"ol\", class_ = \"row\")\n",
    "\n",
    "books = travelBooksResults.find_all(\"li\", class_=\"col-xs-6 col-sm-4 col-md-3 col-lg-3\")\n",
    "\n",
    "\n",
    "libres = []\n",
    "\n",
    "\n",
    "for book in books:\n",
    "    title = book.find(\"img\", alt=True)[\"alt\"]\n",
    "    site = book.find(\"a\", href=True)[\"href\"]\n",
    "    site = site.replace(\"../../../\", \"\")\n",
    "    \n",
    "    #print(site)\n",
    "    #print(title)\n",
    "    \n",
    "    #http://books.toscrape.com/catalogue/its-only-the-himalayas_981/index.html\n",
    "    #http://books.toscrape.com/catalogue/category/books/travel_2/index.html\n",
    "    \n",
    "    bookURL = \"http://books.toscrape.com/catalogue/\" + str(site)\n",
    "    \n",
    "    #print(bookURL)\n",
    "    bookPage = requests.get(bookURL)\n",
    "    bookSoup = BeautifulSoup(bookPage.content, \"html.parser\")\n",
    "    #print(title)\n",
    "    #print(bookSoup.text)\n",
    "    bookStock = bookSoup.find(\"p\", class_=\"instock availability\")\n",
    "    stocks = bookStock.text[25:].split(\" \")[0]\n",
    "    dic[title] = stocks\n",
    "    aye = (title, stocks)\n",
    "    libres.append(aye)\n",
    "    \n",
    "print(libres)"
   ]
  },
  {
   "cell_type": "code",
   "execution_count": null,
   "id": "a8971e5c",
   "metadata": {},
   "outputs": [],
   "source": []
  },
  {
   "cell_type": "code",
   "execution_count": null,
   "id": "9c6bdda0",
   "metadata": {},
   "outputs": [],
   "source": []
  },
  {
   "cell_type": "code",
   "execution_count": null,
   "id": "0f5d6230",
   "metadata": {},
   "outputs": [],
   "source": []
  }
 ],
 "metadata": {
  "kernelspec": {
   "display_name": "Python 3 (ipykernel)",
   "language": "python",
   "name": "python3"
  },
  "language_info": {
   "codemirror_mode": {
    "name": "ipython",
    "version": 3
   },
   "file_extension": ".py",
   "mimetype": "text/x-python",
   "name": "python",
   "nbconvert_exporter": "python",
   "pygments_lexer": "ipython3",
   "version": "3.9.7"
  }
 },
 "nbformat": 4,
 "nbformat_minor": 5
}
