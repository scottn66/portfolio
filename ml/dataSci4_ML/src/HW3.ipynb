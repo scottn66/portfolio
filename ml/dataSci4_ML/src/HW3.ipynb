{
 "cells": [
  {
   "cell_type": "markdown",
   "id": "0f1a6cb5",
   "metadata": {},
   "source": [
    "Homework 3 - Due 3/10/22\n",
    "\n",
    "Please cite any resources or other individuals you collaborated with for this homework:\n",
    "- \n",
    "\n",
    "Problem 1.\n",
    "You are provided with the PimaTraining.csv and PimaTest.csv. PimaTraining.csv contains some information for predicting the onset of diabetes within 5 years in Pima Indians given by medical details. PimaTest is missing the last column (classification data).\n",
    "\n",
    "It's a binary classification problem. There are some missing values, thought to be encoded with a 0. The variables are the following:\n",
    "\n",
    "1. Number of times pregnant.\n",
    "2. Plasma glucose concentration a 2 hours in an oral glucose tolerance test.\n",
    "3. Diastolic blood pressure (mm Hg).\n",
    "4. Triceps skinfold thickness (mm).\n",
    "5. 2-Hour serum insulin (mu U/ml).\n",
    "6. Body mass index (weight in kg/(height in m)^2).\n",
    "7. Diabetes pedigree function.\n",
    "8. Age (years).\n",
    "9. Class variable (0 or 1; this is what we are predicting).\n",
    "\n",
    "\n",
    "Grading:\n",
    "\n",
    "65% correct prediction is a baseline (60%), and a 70% correct prediction earns a 100%. (**You will have to use techniques beyond what is described in class. Do some research on classification!**)\n",
    "\n",
    "Top 3 ranking students will receive on this assignment:\n",
    "1st place: 30% extra credit\n",
    "2nd place: 20% extra credit\n",
    "3rd place: 10% extra credit\n",
    "\n",
    "\n",
    "Submission: Submit your code used to generate the output, and also submit a new PimaTest.csv file, including a column with your predictions.\n",
    "\n",
    "Hint: split your PimaTraining data up to do training/testing, but train on all of the data when you go to do your submission."
   ]
  },
  {
   "cell_type": "code",
   "execution_count": null,
   "id": "1c316197",
   "metadata": {},
   "outputs": [],
   "source": [
    "# Write your code here\n"
   ]
  },
  {
   "cell_type": "markdown",
   "id": "99dac0a3",
   "metadata": {},
   "source": [
    "Problem 2. \n",
    "tripadvisor_review.csv contains some data from a travel reviews dataset, which was created by crawling the traveler’s review from TripAdvisor.com. Reviews on destinations across East Asia are considered in 10 different categories. Each traveler’s rating is categorized from 0(terrible) to 4(excellent), and we have access to average rating. Use the clustering method learned in class to find those with the most similar ratings.\n",
    "\n",
    "Below, provide your code used to cluster the tripadvisor_review.csv data."
   ]
  },
  {
   "cell_type": "markdown",
   "id": "cd5fb098",
   "metadata": {},
   "source": [
    "Problem 3. You are tasked with collecting information about books. You are told that the following website has really good information:\n",
    "\n",
    "http://books.toscrape.com/\n",
    "\n",
    "You are tasked with accomplishing the following tasks:\n",
    "\n",
    "1. Find the title of the most expensive book on the website.\n",
    "2. For all of the \"Travel\" books, find their names and how many copies are in stock. Write them out as a list: [(Bookname, Stock), (Bookname, Stock)...]..\n",
    "3. Find the name of the book which has a UPC of 7e9068872228c474\n",
    "\n",
    "Provide your code used to find the following in cells below (Would recommend using multiple cells, maybe one for each problem)\n",
    "In this cell, provide your solutions you've found.\n",
    "\n",
    "Answers:\n",
    "1.\n",
    "2. \n",
    "3. "
   ]
  },
  {
   "cell_type": "code",
   "execution_count": null,
   "id": "eca7c465",
   "metadata": {},
   "outputs": [],
   "source": [
    "# Write your code here"
   ]
  }
 ],
 "metadata": {
  "kernelspec": {
   "display_name": "Python 3 (ipykernel)",
   "language": "python",
   "name": "python3"
  },
  "language_info": {
   "codemirror_mode": {
    "name": "ipython",
    "version": 3
   },
   "file_extension": ".py",
   "mimetype": "text/x-python",
   "name": "python",
   "nbconvert_exporter": "python",
   "pygments_lexer": "ipython3",
   "version": "3.9.7"
  }
 },
 "nbformat": 4,
 "nbformat_minor": 5
}
